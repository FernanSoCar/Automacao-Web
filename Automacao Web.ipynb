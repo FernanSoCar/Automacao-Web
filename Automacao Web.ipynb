{
 "cells": [
  {
   "cell_type": "code",
   "execution_count": 1,
   "id": "5923afd7",
   "metadata": {},
   "outputs": [],
   "source": [
    "# Importação das bibliotecas necessárias\n",
    "import pandas as pd  \n",
    "import win32com.client as win32\n",
    "from selenium import webdriver\n",
    "from selenium.webdriver.chrome.service import Service\n",
    "from selenium.webdriver.common.by import By\n",
    "from selenium.webdriver.common.keys import Keys\n",
    "from webdriver_manager.chrome import ChromeDriverManager "
   ]
  },
  {
   "cell_type": "code",
   "execution_count": 2,
   "id": "128d00c6",
   "metadata": {},
   "outputs": [
    {
     "data": {
      "application/vnd.microsoft.datawrangler.viewer.v0+json": {
       "columns": [
        {
         "name": "index",
         "rawType": "int64",
         "type": "integer"
        },
        {
         "name": "Nome",
         "rawType": "object",
         "type": "string"
        },
        {
         "name": "Termos banidos",
         "rawType": "object",
         "type": "string"
        },
        {
         "name": "Preço mínimo",
         "rawType": "int64",
         "type": "integer"
        },
        {
         "name": "Preço máximo",
         "rawType": "int64",
         "type": "integer"
        }
       ],
       "ref": "616287b1-a627-4c5f-af95-8875973265df",
       "rows": [
        [
         "0",
         "iphone 16  128 gb",
         "mini watch",
         "5000",
         "5500"
        ],
        [
         "1",
         "playstation 5",
         "slim",
         "3000",
         "4000"
        ],
        [
         "2",
         "rtx 3060",
         "zota galax",
         "2500",
         "3000"
        ]
       ],
       "shape": {
        "columns": 4,
        "rows": 3
       }
      },
      "text/html": [
       "<div>\n",
       "<style scoped>\n",
       "    .dataframe tbody tr th:only-of-type {\n",
       "        vertical-align: middle;\n",
       "    }\n",
       "\n",
       "    .dataframe tbody tr th {\n",
       "        vertical-align: top;\n",
       "    }\n",
       "\n",
       "    .dataframe thead th {\n",
       "        text-align: right;\n",
       "    }\n",
       "</style>\n",
       "<table border=\"1\" class=\"dataframe\">\n",
       "  <thead>\n",
       "    <tr style=\"text-align: right;\">\n",
       "      <th></th>\n",
       "      <th>Nome</th>\n",
       "      <th>Termos banidos</th>\n",
       "      <th>Preço mínimo</th>\n",
       "      <th>Preço máximo</th>\n",
       "    </tr>\n",
       "  </thead>\n",
       "  <tbody>\n",
       "    <tr>\n",
       "      <th>0</th>\n",
       "      <td>iphone 16  128 gb</td>\n",
       "      <td>mini watch</td>\n",
       "      <td>5000</td>\n",
       "      <td>5500</td>\n",
       "    </tr>\n",
       "    <tr>\n",
       "      <th>1</th>\n",
       "      <td>playstation 5</td>\n",
       "      <td>slim</td>\n",
       "      <td>3000</td>\n",
       "      <td>4000</td>\n",
       "    </tr>\n",
       "    <tr>\n",
       "      <th>2</th>\n",
       "      <td>rtx 3060</td>\n",
       "      <td>zota galax</td>\n",
       "      <td>2500</td>\n",
       "      <td>3000</td>\n",
       "    </tr>\n",
       "  </tbody>\n",
       "</table>\n",
       "</div>"
      ],
      "text/plain": [
       "                Nome Termos banidos  Preço mínimo  Preço máximo\n",
       "0  iphone 16  128 gb     mini watch          5000          5500\n",
       "1      playstation 5           slim          3000          4000\n",
       "2           rtx 3060     zota galax          2500          3000"
      ]
     },
     "metadata": {},
     "output_type": "display_data"
    }
   ],
   "source": [
    "# Leitura da tabela de produtos a serem buscados no arquivo Excel\n",
    "tabela_produtos = pd.read_excel(\"buscas.xlsx\")\n",
    "display(tabela_produtos)  # Exibe a tabela lida para conferência"
   ]
  },
  {
   "cell_type": "code",
   "execution_count": 3,
   "id": "2eb065b2",
   "metadata": {},
   "outputs": [],
   "source": [
    "# Configura o serviço do ChromeDriver e inicializa o navegador Chrome\n",
    "service = Service(ChromeDriverManager().install())\n",
    "nav = webdriver.Chrome(service=service)"
   ]
  },
  {
   "cell_type": "code",
   "execution_count": 4,
   "id": "edcce2d6",
   "metadata": {},
   "outputs": [],
   "source": [
    "# Função para buscar ofertas no site Buscapé\n",
    "def busca_buscape(nav, produto, termos_banidos, preco_minimo, preco_maximo):\n",
    "    \"\"\"\n",
    "    Busca ofertas de um produto no site Buscapé, filtrando por termos banidos e faixa de preço.\n",
    "    \"\"\"\n",
    "    # Acessa o site do Buscapé\n",
    "    nav.get(\"https://www.buscape.com.br/\")\n",
    "\n",
    "    # Prepara os dados recebidos para facilitar a busca e comparação\n",
    "    produto = produto.lower()  # Deixa o nome do produto em minúsculo\n",
    "    termos_banidos = termos_banidos.lower()  # Deixa os termos banidos em minúsculo\n",
    "    lista_termos_banidos = termos_banidos.split(\" \")  # Separa os termos banidos em uma lista\n",
    "    lista_termos_produto = produto.split(\" \")  # Separa os termos do produto em uma lista\n",
    "    preco_maximo = float(preco_maximo)  # Garante que o preço máximo é float\n",
    "    preco_minimo = float(preco_minimo)  # Garante que o preço mínimo é float\n",
    "\n",
    "    # Pesquisa o nome do produto no campo de busca do Buscapé\n",
    "    nav.find_element(By.XPATH, '//*[@id=\"new-header\"]/div[1]/div/div/div[3]/div/div/div[2]/div/div[1]/input').send_keys(produto, Keys.ENTER)\n",
    "\n",
    "    # Obtém a lista de resultados da busca\n",
    "    lista_resultados = nav.find_elements(By.CLASS_NAME, \"ProductCard_ProductCard_Inner__gapsh\")\n",
    "\n",
    "    # Lista para armazenar as ofertas encontradas\n",
    "    lista_ofertas = []\n",
    "    for resultado in lista_resultados:\n",
    "        # Pega o nome do produto encontrado\n",
    "        nome = resultado.find_element(By.CLASS_NAME, \"ProductCard_ProductCard_Name__U_mUQ\").text\n",
    "        nome = nome.lower()\n",
    "\n",
    "        # Verifica se o nome contém algum termo banido\n",
    "        tem_termos_banidos = False\n",
    "        for palavra in lista_termos_banidos:\n",
    "            if palavra in nome:\n",
    "                tem_termos_banidos = True\n",
    "\n",
    "        # Verifica se o nome contém todos os termos do produto desejado\n",
    "        tem_todos_termos_produto = True\n",
    "        for palavra in lista_termos_produto:\n",
    "            if palavra not in nome:\n",
    "                tem_todos_termos_produto = False\n",
    "\n",
    "        # Se passou nas verificações, tenta extrair o preço e link\n",
    "        if not tem_termos_banidos and tem_todos_termos_produto:\n",
    "            try:\n",
    "                # Extrai o preço do produto\n",
    "                preco = resultado.find_element(By.CLASS_NAME, \"Text_MobileHeadingS__HEz7L\").text\n",
    "                preco = (\n",
    "                    preco.replace(\"R$\", \"\")\n",
    "                    .replace(\" \", \"\")\n",
    "                    .replace(\".\", \"\")\n",
    "                    .replace(\",\", \".\")\n",
    "                )\n",
    "                preco = float(preco)\n",
    "                # Verifica se o preço está dentro do intervalo desejado\n",
    "                if preco_minimo <= preco <= preco_maximo:\n",
    "                    # Pega o link do produto\n",
    "                    link = resultado.get_attribute(\"href\")\n",
    "                    lista_ofertas.append((nome, preco, link))\n",
    "            except:\n",
    "                # Se não conseguir extrair preço ou link, ignora o resultado\n",
    "                continue\n",
    "    return lista_ofertas  # Retorna a lista de ofertas encontradas"
   ]
  },
  {
   "cell_type": "markdown",
   "id": "c32cf441",
   "metadata": {},
   "source": [
    "### Contrução da lista de ofertas encontradas"
   ]
  },
  {
   "cell_type": "code",
   "execution_count": 5,
   "id": "83bf5a22",
   "metadata": {},
   "outputs": [
    {
     "data": {
      "application/vnd.microsoft.datawrangler.viewer.v0+json": {
       "columns": [
        {
         "name": "index",
         "rawType": "int64",
         "type": "integer"
        },
        {
         "name": "produto",
         "rawType": "object",
         "type": "string"
        },
        {
         "name": "preco",
         "rawType": "float64",
         "type": "float"
        },
        {
         "name": "link",
         "rawType": "object",
         "type": "string"
        }
       ],
       "ref": "8b3d5549-d4d2-4cd2-9468-beb4f77a0d43",
       "rows": [
        [
         "0",
         "celular apple iphone 16 128gb",
         "5248.99",
         "https://www.buscape.com.br/celular/smartphone-apple-iphone-16-128gb-camera-dupla?_lc=88&searchterm=iphone%2016%20%20128%20gb"
        ],
        [
         "1",
         "playstation 5 edição digital 825gb",
         "3850.0",
         "https://www.buscape.com.br/console-de-video-game/console-playstation-5-edicao-digital-sony-4k?_lc=88&searchterm=playstation%205"
        ],
        [
         "2",
         "placa de vídeo asus gaming - geforce dual rtx 3060, 12gb gddr6, rgb, lhr, ray tracing, dlss",
         "2999.97",
         "https://www.buscape.com.br/lead?oid=1255551101&channel=86&index=5&searchterm=rtx%203060"
        ],
        [
         "3",
         "placa de video pcyes 12gb gpu nvidia gf rtx 3060 ddr6 192 bit",
         "2699.0",
         "https://www.buscape.com.br/lead?oid=1360057100&channel=86&index=6&searchterm=rtx%203060"
        ]
       ],
       "shape": {
        "columns": 3,
        "rows": 4
       }
      },
      "text/html": [
       "<div>\n",
       "<style scoped>\n",
       "    .dataframe tbody tr th:only-of-type {\n",
       "        vertical-align: middle;\n",
       "    }\n",
       "\n",
       "    .dataframe tbody tr th {\n",
       "        vertical-align: top;\n",
       "    }\n",
       "\n",
       "    .dataframe thead th {\n",
       "        text-align: right;\n",
       "    }\n",
       "</style>\n",
       "<table border=\"1\" class=\"dataframe\">\n",
       "  <thead>\n",
       "    <tr style=\"text-align: right;\">\n",
       "      <th></th>\n",
       "      <th>produto</th>\n",
       "      <th>preco</th>\n",
       "      <th>link</th>\n",
       "    </tr>\n",
       "  </thead>\n",
       "  <tbody>\n",
       "    <tr>\n",
       "      <th>0</th>\n",
       "      <td>celular apple iphone 16 128gb</td>\n",
       "      <td>5248.99</td>\n",
       "      <td>https://www.buscape.com.br/celular/smartphone-...</td>\n",
       "    </tr>\n",
       "    <tr>\n",
       "      <th>1</th>\n",
       "      <td>playstation 5 edição digital 825gb</td>\n",
       "      <td>3850.00</td>\n",
       "      <td>https://www.buscape.com.br/console-de-video-ga...</td>\n",
       "    </tr>\n",
       "    <tr>\n",
       "      <th>2</th>\n",
       "      <td>placa de vídeo asus gaming - geforce dual rtx ...</td>\n",
       "      <td>2999.97</td>\n",
       "      <td>https://www.buscape.com.br/lead?oid=1255551101...</td>\n",
       "    </tr>\n",
       "    <tr>\n",
       "      <th>3</th>\n",
       "      <td>placa de video pcyes 12gb gpu nvidia gf rtx 30...</td>\n",
       "      <td>2699.00</td>\n",
       "      <td>https://www.buscape.com.br/lead?oid=1360057100...</td>\n",
       "    </tr>\n",
       "  </tbody>\n",
       "</table>\n",
       "</div>"
      ],
      "text/plain": [
       "                                             produto    preco  \\\n",
       "0                      celular apple iphone 16 128gb  5248.99   \n",
       "1                 playstation 5 edição digital 825gb  3850.00   \n",
       "2  placa de vídeo asus gaming - geforce dual rtx ...  2999.97   \n",
       "3  placa de video pcyes 12gb gpu nvidia gf rtx 30...  2699.00   \n",
       "\n",
       "                                                link  \n",
       "0  https://www.buscape.com.br/celular/smartphone-...  \n",
       "1  https://www.buscape.com.br/console-de-video-ga...  \n",
       "2  https://www.buscape.com.br/lead?oid=1255551101...  \n",
       "3  https://www.buscape.com.br/lead?oid=1360057100...  "
      ]
     },
     "metadata": {},
     "output_type": "display_data"
    }
   ],
   "source": [
    "# Cria um DataFrame vazio para armazenar todas as ofertas encontradas\n",
    "tabela_ofertas = pd.DataFrame()\n",
    "\n",
    "# Percorre cada linha da tabela de produtos para buscar ofertas\n",
    "for linha in tabela_produtos.index:\n",
    "    produto = tabela_produtos.loc[linha, \"Nome\"]\n",
    "    termos_banidos = tabela_produtos.loc[linha, \"Termos banidos\"]\n",
    "    preco_minimo = tabela_produtos.loc[linha, \"Preço mínimo\"]\n",
    "    preco_maximo = tabela_produtos.loc[linha, \"Preço máximo\"]\n",
    "\n",
    "    # Busca ofertas no Buscapé para o produto da linha atual\n",
    "    lista_ofertas_buscape = busca_buscape(nav, produto, termos_banidos, preco_minimo, preco_maximo)\n",
    "    if lista_ofertas_buscape:\n",
    "        # Se encontrou ofertas, adiciona ao DataFrame principal\n",
    "        tabela_buscape = pd.DataFrame(lista_ofertas_buscape, columns=['produto', 'preco', 'link'])\n",
    "        tabela_ofertas = pd.concat([tabela_ofertas, tabela_buscape], ignore_index=True)\n",
    "    else:\n",
    "        tabela_buscape = None\n",
    "\n",
    "display(tabela_ofertas)"
   ]
  },
  {
   "cell_type": "markdown",
   "id": "75a381ff",
   "metadata": {},
   "source": [
    "### Exportar a base de ofertas para Excel"
   ]
  },
  {
   "cell_type": "code",
   "execution_count": 6,
   "id": "683a3719",
   "metadata": {},
   "outputs": [],
   "source": [
    "# Exporta a tabela de ofertas para um arquivo Excel\n",
    "tabela_ofertas = tabela_ofertas.reset_index(drop=True)\n",
    "tabela_ofertas.to_excel(\"Ofertas.xlsx\", index=False)"
   ]
  },
  {
   "cell_type": "markdown",
   "id": "bd159149",
   "metadata": {},
   "source": [
    "### Enviando o e-mail"
   ]
  },
  {
   "cell_type": "code",
   "execution_count": 7,
   "id": "ad647378",
   "metadata": {},
   "outputs": [],
   "source": [
    "# Se encontrou ofertas, envia um e-mail com a tabela no corpo do e-mail\n",
    "if len(tabela_ofertas.index) > 0:\n",
    "    # Cria um e-mail no Outlook\n",
    "    outlook = win32.Dispatch(\"outlook.application\")\n",
    "    mail = outlook.CreateItem(0)\n",
    "    mail.To = \"joxawo8644@jeanssi.com\"  # E-mail de destino\n",
    "    mail.Subject = \"Produto(s) Encontrado(s) na faixa de preço desejada\"  # Assunto do e-mail\n",
    "    # Corpo do e-mail em HTML com a tabela de ofertas\n",
    "    mail.HTMLBody = f\"\"\"\n",
    "    <p>Prezados,</p>\n",
    "    <p>Encontramos alguns produtos em oferta dentro da faixa de preço desejada. Segue tabela com detalhes</p>\n",
    "    {tabela_ofertas.to_html(index=False)}\n",
    "    <p>Qualquer dúvida estou à disposição</p>\n",
    "    <p>Att., Felipe Santos</p>\n",
    "    \"\"\"\n",
    "    mail.Send()  # Envia o e-mailz\n",
    "\n",
    "nav.quit()  # Encerra o navegador"
   ]
  }
 ],
 "metadata": {
  "kernelspec": {
   "display_name": ".venv",
   "language": "python",
   "name": "python3"
  },
  "language_info": {
   "codemirror_mode": {
    "name": "ipython",
    "version": 3
   },
   "file_extension": ".py",
   "mimetype": "text/x-python",
   "name": "python",
   "nbconvert_exporter": "python",
   "pygments_lexer": "ipython3",
   "version": "3.12.10"
  }
 },
 "nbformat": 4,
 "nbformat_minor": 5
}
